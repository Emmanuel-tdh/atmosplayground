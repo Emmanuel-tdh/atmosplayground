{
 "cells": [
  {
   "cell_type": "code",
   "execution_count": null,
   "metadata": {},
   "outputs": [],
   "source": [
    "import mylastool\n",
    "\n",
    "container = mylastool.get_container()\n",
    "#lasfiles = mylastool.get_list_of_lasfiles(container)\n",
    "mylastool.print_list_of_lasfiles(container)"
   ]
  },
  {
   "cell_type": "code",
   "execution_count": null,
   "metadata": {},
   "outputs": [],
   "source": [
    "filename = \"31_5-7 Eos/07.Borehole_Seismic/TZV_TIME_SYNSEIS_2020-01-17_2.LAS\"\n",
    "lines = mylastool.read_lasfile(container, filename)\n",
    "print(len(lines))\n",
    "print(*mylastool.get_header_section(lines), sep='\\n')\n"
   ]
  },
  {
   "cell_type": "code",
   "execution_count": null,
   "metadata": {},
   "outputs": [],
   "source": [
    "values = []\n",
    "for row in mylastool.get_data_section(lines):\n",
    "    values.append([float(col) for col in row.split()])\n",
    "curves = list(zip(*values))\n",
    "\n",
    "for curve in curves:\n",
    "    curve_values = [value for value in curve if value != -999.25]\n",
    "    print(f'min={min(curve_values):<8} max={max(curve_values):<8}')\n"
   ]
  },
  {
   "cell_type": "code",
   "execution_count": null,
   "metadata": {},
   "outputs": [],
   "source": [
    "import numpy as np\n",
    "curves = np.array(values).T\n",
    "curves = np.where(curves==-999.25, np.nan, curves)\n",
    "\n",
    "import matplotlib.pyplot as plt\n",
    "plt.plot(curves[0], curves[1])\n",
    "plt.plot(curves[0], curves[2])\n",
    "plt.plot(curves[0], curves[3])\n",
    "plt.plot(curves[0], curves[4])\n"
   ]
  },
  {
   "cell_type": "code",
   "execution_count": null,
   "metadata": {},
   "outputs": [],
   "source": [
    "import segyio\n",
    "import matplotlib.pyplot as plt\n",
    "\n",
    "traces = []\n",
    "with segyio.open('VSPZO_RAW_2020-01-17_4.SEGY', strict=False) as f:\n",
    "    for trace in f.trace:\n",
    "        traces.append(list(trace))\n",
    "plt.imshow(traces, vmin=-0.01, vmax=0.01)"
   ]
  }
 ],
 "metadata": {
  "interpreter": {
   "hash": "4f946df053fbf2b937619d3c5458e7af74262f9a954d8797ba0b27400bcafe06"
  },
  "kernelspec": {
   "display_name": "Python 3.8.12 64-bit",
   "language": "python",
   "name": "python3"
  },
  "language_info": {
   "codemirror_mode": {
    "name": "ipython",
    "version": 3
   },
   "file_extension": ".py",
   "mimetype": "text/x-python",
   "name": "python",
   "nbconvert_exporter": "python",
   "pygments_lexer": "ipython3",
   "version": "3.8.12"
  },
  "orig_nbformat": 4
 },
 "nbformat": 4,
 "nbformat_minor": 2
}
